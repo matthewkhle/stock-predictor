{
  "cells": [
    {
      "cell_type": "markdown",
      "metadata": {
        "id": "TSS07Onq5mUm"
      },
      "source": [
        "## 1. Prepare data"
      ]
    },
    {
      "cell_type": "markdown",
      "metadata": {
        "id": "itdD8-PC6VJi"
      },
      "source": [
        "#### Imports and Dependencies"
      ]
    },
    {
      "cell_type": "code",
      "execution_count": null,
      "metadata": {
        "id": "id0wtGhA6m8x"
      },
      "outputs": [],
      "source": [
        "import torch\n",
        "\n",
        "import os\n",
        "import numpy as np\n",
        "import pandas as pd\n",
        "import matplotlib.pyplot as plt\n",
        "from torch import nn, optim\n",
        "from datetime import datetime"
      ]
    },
    {
      "cell_type": "markdown",
      "metadata": {
        "id": "55pMDF187LO7"
      },
      "source": [
        "#### Bring in the data"
      ]
    },
    {
      "cell_type": "code",
      "execution_count": null,
      "metadata": {
        "id": "4B4F-A-f7OCc"
      },
      "outputs": [],
      "source": [
        "import pandas as pd\n",
        "\n",
        "# Read in AMZN historical stock data as `data`\n",
        "filepath = \"AMZN.csv\"\n",
        "dataset = pd.read_csv(filepath)\n",
        "# print(dataset)"
      ]
    },
    {
      "cell_type": "markdown",
      "metadata": {
        "id": "cOsdynwu7ilM"
      },
      "source": [
        "#### Clean up the data"
      ]
    },
    {
      "cell_type": "code",
      "execution_count": null,
      "metadata": {
        "colab": {
          "base_uri": "https://localhost:8080/"
        },
        "id": "s3H0bpDB7k-Q",
        "outputId": "4f331cb3-53d5-4bbe-9492-7a2a216fe7d4"
      },
      "outputs": [
        {
          "name": "stderr",
          "output_type": "stream",
          "text": [
            "/usr/local/lib/python3.7/dist-packages/ipykernel_launcher.py:4: SettingWithCopyWarning: \n",
            "A value is trying to be set on a copy of a slice from a DataFrame.\n",
            "Try using .loc[row_indexer,col_indexer] = value instead\n",
            "\n",
            "See the caveats in the documentation: https://pandas.pydata.org/pandas-docs/stable/user_guide/indexing.html#returning-a-view-versus-a-copy\n",
            "  after removing the cwd from sys.path.\n"
          ]
        }
      ],
      "source": [
        "# Reorder the columns\n",
        "dataset = dataset[['Open', 'High', 'Low', 'Volume', 'Close']]\n",
        "# Scale down Volume to tens of millions\n",
        "dataset['Volume'] = dataset['Volume'] / 10000000\n",
        "\n",
        "# dataset = dataset.to_numpy()\n",
        "# np.set_printoptions(suppress=True)\n",
        "# print(dataset)"
      ]
    },
    {
      "cell_type": "markdown",
      "metadata": {
        "id": "FMVcQHYk6z4t"
      },
      "source": []
    },
    {
      "cell_type": "markdown",
      "metadata": {
        "id": "rXvp3tPRAgs6"
      },
      "source": [
        "### Split `Data` into Training, Test, Validation and Create Sequences\n",
        "Each sequence in for x is connected to a resulting y.\n",
        "<br>\n",
        "The value for sequence is currently set to 20, and should be adjusted to test the effects."
      ]
    },
    {
      "cell_type": "code",
      "execution_count": null,
      "metadata": {
        "id": "M0HKioWOAgE5"
      },
      "outputs": [],
      "source": [
        "# # function to create train, validation, test data given stock data and sequence length\n",
        "# def load_data(stock, seq_len):\n",
        "#     data_raw = stock.values # convert to numpy array\n",
        "#     data = []\n",
        "    \n",
        "#     # create all possible sequences of length seq_len\n",
        "#     for index in range(len(data_raw) - seq_len): \n",
        "#         data.append(data_raw[index: index + seq_len])\n",
        "    \n",
        "#     data = np.array(data)\n",
        "#     valid_set_size = int(np.round(valid_set_size_percentage/100*data.shape[0])) \n",
        "#     test_set_size = int(np.round(test_set_size_percentage/100*data.shape[0]))\n",
        "#     train_set_size = data.shape[0] - (valid_set_size + test_set_size)\n",
        "    \n",
        "#     x_train = data[:train_set_size,:-1,:]\n",
        "#     y_train = data[:train_set_size,-1,4:] # last index (4:) makes it so we only take the 'Close' column\n",
        "    \n",
        "#     x_valid = data[train_set_size:train_set_size+valid_set_size,:-1,:]\n",
        "#     y_valid = data[train_set_size:train_set_size+valid_set_size,-1,4:]\n",
        "    \n",
        "#     x_test = data[train_set_size+valid_set_size:,:-1,:]\n",
        "#     y_test = data[train_set_size+valid_set_size:,-1,4:]\n",
        "    \n",
        "#     return [x_train, y_train, x_valid, y_valid, x_test, y_test]\n",
        "\n",
        "# # split data in 80%/10%/10% train/validation/test sets\n",
        "# valid_set_size_percentage = 10 \n",
        "# test_set_size_percentage = 10\n",
        "\n",
        "# # create train, test data\n",
        "# seq_length = 20 # choose sequence length\n",
        "# x_train, y_train, x_valid, y_valid, x_test, y_test = load_data(dataset, seq_length)\n",
        "\n",
        "# # y_train = np.squeeze(y_train)\n",
        "# # y_valid = np.squeeze(y_valid)\n",
        "# # y_test = np.squeeze(y_test)\n",
        "\n",
        "# # convert sequence to dataframe\n",
        "# def convert_sequence_to_dataframe(array):\n",
        "#     m,n,r = array.shape\n",
        "#     out_arr = np.column_stack((np.repeat(np.arange(m),n),array.reshape(m*n,-1)))\n",
        "#     out_df = pd.DataFrame(out_arr, columns=['Sequence', 'Open', 'High', 'Low', 'Volume', 'Close'])\n",
        "#     return out_df\n",
        "\n",
        "# # print(x_train)  \n",
        "# # x_train = convert_sequence_to_dataframe(x_train)\n",
        "# # y_train = pd.DataFrame(y_train, columns=['Close'])\n",
        "# # x_valid = convert_sequence_to_dataframe(x_valid)\n",
        "# # y_valid = pd.DataFrame(y_valid, columns=['Open', 'High', 'Low', 'Volume', 'Close'])\n",
        "# # x_test = convert_sequence_to_dataframe(x_test)\n",
        "# # y_test = pd.DataFrame(y_test, columns=['Open', 'High', 'Low', 'Volume', 'Close'])"
      ]
    },
    {
      "cell_type": "markdown",
      "metadata": {
        "id": "aO3cKK1qAwE2"
      },
      "source": [
        "#### Printing Methods"
      ]
    },
    {
      "cell_type": "code",
      "execution_count": null,
      "metadata": {
        "id": "gW19_Ho-A0Fw"
      },
      "outputs": [],
      "source": [
        "def print_datasets():\n",
        "    print(x_train)\n",
        "    print(y_train)\n",
        "    print(x_valid)\n",
        "    print(y_valid)\n",
        "    print(x_test)\n",
        "    print(y_test)\n",
        "\n",
        "def print_shapes():\n",
        "    print('x_train.shape = ', x_train.shape)\n",
        "    print('y_train.shape = ', y_train.shape)\n",
        "    print('x_valid.shape = ', x_valid.shape)\n",
        "    print('y_valid.shape = ', y_valid.shape)\n",
        "    print('x_test.shape = ', x_test.shape)\n",
        "    print('y_test.shape = ', y_test.shape)\n",
        "\n",
        "# print_shapes()\n",
        "# print_datasets()"
      ]
    },
    {
      "cell_type": "markdown",
      "metadata": {
        "id": "jfa9KNEeGQt-"
      },
      "source": [
        "### Split `Data` into Training, Test, Validation and Create Sequences"
      ]
    },
    {
      "cell_type": "code",
      "execution_count": null,
      "metadata": {
        "id": "pVwTYSmvG0Zw"
      },
      "outputs": [],
      "source": [
        "from sklearn.model_selection import train_test_split\n",
        "\n",
        "def feature_label_split(df, target_col):\n",
        "    y = df[[target_col]]\n",
        "    x = df.drop(columns=[target_col])\n",
        "    return x, y\n",
        "\n",
        "def train_val_test_split(df, target_col, test_ratio):\n",
        "    val_ratio = test_ratio / (1 - test_ratio)\n",
        "    x, y = feature_label_split(df, target_col)\n",
        "    x_train, x_test, y_train, y_test = train_test_split(x, y, test_size=test_ratio, shuffle=False)\n",
        "    x_train, x_val, y_train, y_val = train_test_split(x_train, y_train, test_size=val_ratio, shuffle=False)\n",
        "    return x_train, x_val, x_test, y_train, y_val, y_test\n",
        "\n",
        "x_train, x_val, x_test, y_train, y_val, y_test = train_val_test_split(dataset, 'Close', 0.2)"
      ]
    },
    {
      "cell_type": "markdown",
      "metadata": {
        "id": "HsAgpYgbHNP8"
      },
      "source": [
        "#### Printing Methods"
      ]
    },
    {
      "cell_type": "code",
      "execution_count": null,
      "metadata": {
        "colab": {
          "base_uri": "https://localhost:8080/"
        },
        "id": "UVzJwpJSHPD_",
        "outputId": "d9d56894-8622-4fc1-a8db-d310932a8c69"
      },
      "outputs": [
        {
          "name": "stdout",
          "output_type": "stream",
          "text": [
            "x_train.shape =  (3690, 4)\n",
            "y_train.shape =  (3690, 1)\n",
            "x_val.shape =  (1230, 4)\n",
            "y_val.shape =  (1230, 1)\n",
            "x_test.shape =  (1230, 4)\n",
            "y_test.shape =  (1230, 1)\n"
          ]
        }
      ],
      "source": [
        "def print_datasets():\n",
        "    print(x_train)\n",
        "    print(y_train)\n",
        "    print(x_val)\n",
        "    print(y_val)\n",
        "    print(x_test)\n",
        "    print(y_test)\n",
        "\n",
        "def print_shapes():\n",
        "    print('x_train.shape = ', x_train.shape)\n",
        "    print('y_train.shape = ', y_train.shape)\n",
        "    print('x_val.shape = ', x_val.shape)\n",
        "    print('y_val.shape = ', y_val.shape)\n",
        "    print('x_test.shape = ', x_test.shape)\n",
        "    print('y_test.shape = ', y_test.shape)\n",
        "\n",
        "print_shapes()\n",
        "# print_datasets()"
      ]
    },
    {
      "cell_type": "code",
      "execution_count": null,
      "metadata": {
        "id": "sBK3HFCbF1El"
      },
      "outputs": [],
      "source": [
        "from torch.utils.data import TensorDataset, DataLoader\n",
        "\n",
        "batch_size = 500\n",
        "\n",
        "train_features = torch.Tensor(x_train.to_numpy())\n",
        "train_targets = torch.Tensor(y_train.to_numpy())\n",
        "val_features = torch.Tensor(x_val.to_numpy())\n",
        "val_targets = torch.Tensor(y_val.to_numpy())\n",
        "test_features = torch.Tensor(x_test.to_numpy())\n",
        "test_targets = torch.Tensor(y_test.to_numpy())\n",
        "\n",
        "train = TensorDataset(train_features, train_targets)\n",
        "val = TensorDataset(val_features, val_targets)\n",
        "test = TensorDataset(test_features, test_targets)\n",
        "\n",
        "train_loader = DataLoader(train, batch_size=batch_size, shuffle=False, drop_last=True)\n",
        "val_loader = DataLoader(val, batch_size=batch_size, shuffle=False, drop_last=True)\n",
        "test_loader = DataLoader(test, batch_size=batch_size, shuffle=False, drop_last=True)\n",
        "test_loader_one = DataLoader(test, batch_size=1, shuffle=False, drop_last=True)"
      ]
    },
    {
      "cell_type": "markdown",
      "metadata": {
        "id": "zz_dMzzaIaIZ"
      },
      "source": [
        "## 2. Define the Model"
      ]
    },
    {
      "cell_type": "markdown",
      "metadata": {
        "id": "a6w9b9yVIlnn"
      },
      "source": [
        "#### LSTM"
      ]
    },
    {
      "cell_type": "code",
      "execution_count": null,
      "metadata": {
        "id": "FNZjjiUlIj6G"
      },
      "outputs": [],
      "source": [
        "class LSTMModel(nn.Module):\n",
        "    def __init__(self, input_dim, hidden_dim, layer_dim, output_dim, dropout_prob):\n",
        "        super(LSTMModel, self).__init__()\n",
        "\n",
        "        # Defining the number of layers and the nodes in each layer\n",
        "        self.hidden_dim = hidden_dim\n",
        "        self.layer_dim = layer_dim\n",
        "\n",
        "        # LSTM layers\n",
        "        self.lstm = nn.LSTM(\n",
        "            input_dim, hidden_dim, layer_dim, batch_first=True, dropout=dropout_prob\n",
        "        )\n",
        "\n",
        "        # Fully connected layer\n",
        "        self.fc = nn.Linear(hidden_dim, output_dim)\n",
        "\n",
        "    def forward(self, x):\n",
        "        # Initializing hidden state for first input with zeros\n",
        "        h0 = torch.zeros(self.layer_dim, x.size(0), self.hidden_dim, device=x.device).requires_grad_()\n",
        "\n",
        "        # Initializing cell state for first input with zeros\n",
        "        c0 = torch.zeros(self.layer_dim, x.size(0), self.hidden_dim, device=x.device).requires_grad_()\n",
        "\n",
        "        # We need to detach as we are doing truncated backpropagation through time (BPTT)\n",
        "        # If we don't, we'll backprop all the way to the start even after going through another batch\n",
        "        # Forward propagation by passing in the input, hidden state, and cell state into the model\n",
        "        out, (hn, cn) = self.lstm(x, (h0.detach(), c0.detach()))\n",
        "\n",
        "        # Reshaping the outputs in the shape of (batch_size, seq_length, hidden_size)\n",
        "        # so that it can fit into the fully connected layer\n",
        "        out = out[:, -1, :]\n",
        "\n",
        "        # Convert the final state to our desired output shape (batch_size, output_dim)\n",
        "        out = self.fc(out)\n",
        "\n",
        "        return out"
      ]
    },
    {
      "cell_type": "markdown",
      "metadata": {
        "id": "sz0jOPaziWZD"
      },
      "source": [
        "#### GRU"
      ]
    },
    {
      "cell_type": "code",
      "execution_count": null,
      "metadata": {
        "id": "FgXqL5m9iXrC"
      },
      "outputs": [],
      "source": [
        "class GRUModel(nn.Module):\n",
        "    def __init__(self, input_dim, hidden_dim, layer_dim, output_dim, dropout_prob):\n",
        "        super(GRUModel, self).__init__()\n",
        "\n",
        "        # Defining the number of layers and the nodes in each layer\n",
        "        self.layer_dim = layer_dim\n",
        "        self.hidden_dim = hidden_dim\n",
        "\n",
        "        # GRU layers\n",
        "        self.gru = nn.GRU(\n",
        "            input_dim, hidden_dim, layer_dim, batch_first=True, dropout=dropout_prob\n",
        "        )\n",
        "\n",
        "        # Fully connected layer\n",
        "        self.fc = nn.Linear(hidden_dim, output_dim)\n",
        "\n",
        "    def forward(self, x):\n",
        "        # Initializing hidden state for first input with zeros\n",
        "        h0 = torch.zeros(self.layer_dim, x.size(0), self.hidden_dim, device=x.device).requires_grad_()\n",
        "\n",
        "        # Forward propagation by passing in the input and hidden state into the model\n",
        "        out, _ = self.gru(x, h0.detach())\n",
        "\n",
        "        # Reshaping the outputs in the shape of (batch_size, seq_length, hidden_size)\n",
        "        # so that it can fit into the fully connected layer\n",
        "        out = out[:, -1, :]\n",
        "\n",
        "        # Convert the final state to our desired output shape (batch_size, output_dim)\n",
        "        out = self.fc(out)\n",
        "\n",
        "        return out"
      ]
    },
    {
      "cell_type": "markdown",
      "metadata": {
        "id": "uwEnhdOTIsuF"
      },
      "source": [
        "#### Switch between models"
      ]
    },
    {
      "cell_type": "code",
      "execution_count": null,
      "metadata": {
        "id": "Ttry2DGaIv77"
      },
      "outputs": [],
      "source": [
        "def get_model(model, model_params):\n",
        "    models = {\n",
        "        # \"rnn\": RNNModel,\n",
        "        \"lstm\": LSTMModel,\n",
        "        \"gru\": GRUModel,\n",
        "    }\n",
        "    return models.get(model.lower())(**model_params)"
      ]
    },
    {
      "cell_type": "markdown",
      "metadata": {
        "id": "KFjv62UqIy6B"
      },
      "source": [
        "## 3. Train the Model"
      ]
    },
    {
      "cell_type": "markdown",
      "metadata": {
        "id": "TjJYvLErJL-d"
      },
      "source": [
        "##### Optimization Class"
      ]
    },
    {
      "cell_type": "code",
      "execution_count": null,
      "metadata": {
        "id": "rojFrTIKI1JT"
      },
      "outputs": [],
      "source": [
        "class Optimization:\n",
        "    def __init__(self, model, loss_fn, optimizer):\n",
        "        self.model = model\n",
        "        self.loss_fn = loss_fn\n",
        "        self.optimizer = optimizer\n",
        "        self.train_losses = []\n",
        "        self.val_losses = []\n",
        "    \n",
        "    def train_step(self, x, y):\n",
        "        # Sets model to train mode\n",
        "        self.model.train()\n",
        "\n",
        "        # Makes predictions\n",
        "        yhat = self.model(x)\n",
        "\n",
        "        # Computes loss\n",
        "        loss = self.loss_fn(y, yhat)\n",
        "\n",
        "        # Computes gradients\n",
        "        loss.backward()\n",
        "\n",
        "        # Updates parameters and zeroes gradients\n",
        "        self.optimizer.step()\n",
        "        self.optimizer.zero_grad()\n",
        "\n",
        "        # Returns the loss\n",
        "        return loss.item()\n",
        "    \n",
        "    def train(self, train_loader, val_loader, batch_size=64, n_epochs=50, n_features=1):\n",
        "        model_path = f'models/{self.model}_{datetime.now().strftime(\"%Y-%m-%d %H:%M:%S\")}'\n",
        "\n",
        "        for epoch in range(1, n_epochs + 1):\n",
        "            batch_losses = []\n",
        "            for x_batch, y_batch in train_loader:\n",
        "                x_batch = x_batch.view([batch_size, -1, n_features]).to(device)\n",
        "                y_batch = y_batch.to(device)\n",
        "                loss = self.train_step(x_batch, y_batch)\n",
        "                batch_losses.append(loss)\n",
        "            training_loss = np.mean(batch_losses)\n",
        "            self.train_losses.append(training_loss)\n",
        "\n",
        "            with torch.no_grad():\n",
        "                batch_val_losses = []\n",
        "                for x_val, y_val in val_loader:\n",
        "                    x_val = x_val.view([batch_size, -1, n_features]).to(device)\n",
        "                    y_val = y_val.to(device)\n",
        "                    self.model.eval()\n",
        "                    yhat = self.model(x_val)\n",
        "                    val_loss = self.loss_fn(y_val, yhat).item()\n",
        "                    batch_val_losses.append(val_loss)\n",
        "                validation_loss = np.mean(batch_val_losses)\n",
        "                self.val_losses.append(validation_loss)\n",
        "\n",
        "            if (epoch <= 10) | (epoch % 50 == 0):\n",
        "                print(\n",
        "                    f\"[{epoch}/{n_epochs}] Training loss: {training_loss:.4f}\\t Validation loss: {validation_loss:.4f}\"\n",
        "                )\n",
        "\n",
        "        torch.save(self.model.state_dict(), model_path)\n",
        "\n",
        "    def evaluate(self, test_loader, batch_size=1, n_features=1):\n",
        "        with torch.no_grad():\n",
        "            predictions = []\n",
        "            values = []\n",
        "            for x_test, y_test in test_loader:\n",
        "                x_test = x_test.view([batch_size, -1, n_features]).to(device)\n",
        "                y_test = y_test.to(device)\n",
        "                self.model.eval()\n",
        "                yhat = self.model(x_test)\n",
        "                predictions.append(yhat.to(device).detach().cpu().clone().numpy())\n",
        "                values.append(y_test.to(device).detach().cpu().clone().numpy())\n",
        "\n",
        "        return predictions, values\n",
        "    \n",
        "    def plot_losses(self):\n",
        "        plt.plot(self.train_losses, label=\"Training loss\")\n",
        "        plt.plot(self.val_losses, label=\"Validation loss\")\n",
        "        plt.legend()\n",
        "        plt.title(\"Losses\")\n",
        "        plt.show()\n",
        "        plt.close()"
      ]
    },
    {
      "cell_type": "markdown",
      "metadata": {
        "id": "0HUFKFmTKCIa"
      },
      "source": [
        "#### Start actually training"
      ]
    },
    {
      "cell_type": "code",
      "execution_count": null,
      "metadata": {
        "colab": {
          "base_uri": "https://localhost:8080/",
          "height": 785
        },
        "id": "qj1yCbNFKK58",
        "outputId": "a12accc1-7896-4b55-8151-7c8a74d3243a"
      },
      "outputs": [
        {
          "name": "stdout",
          "output_type": "stream",
          "text": [
            "[1/1000] Training loss: 4395.1999\t Validation loss: 123865.4805\n",
            "[2/1000] Training loss: 4365.0202\t Validation loss: 123652.8125\n",
            "[3/1000] Training loss: 4321.5737\t Validation loss: 123298.7070\n",
            "[4/1000] Training loss: 4260.1907\t Validation loss: 122832.5977\n",
            "[5/1000] Training loss: 4175.8956\t Validation loss: 122235.7930\n",
            "[6/1000] Training loss: 4071.4507\t Validation loss: 121463.3281\n",
            "[7/1000] Training loss: 3961.1837\t Validation loss: 120728.3984\n",
            "[8/1000] Training loss: 3855.0534\t Validation loss: 120045.2930\n",
            "[9/1000] Training loss: 3768.4590\t Validation loss: 119495.6875\n",
            "[10/1000] Training loss: 3694.9692\t Validation loss: 119012.0312\n",
            "[50/1000] Training loss: 2494.6695\t Validation loss: 109294.4629\n",
            "[100/1000] Training loss: 1753.8929\t Validation loss: 101148.2578\n",
            "[150/1000] Training loss: 1321.0585\t Validation loss: 94937.4746\n",
            "[200/1000] Training loss: 1039.4315\t Validation loss: 89863.4238\n",
            "[250/1000] Training loss: 833.5779\t Validation loss: 85468.9043\n",
            "[300/1000] Training loss: 677.4973\t Validation loss: 81638.4395\n",
            "[350/1000] Training loss: 566.4647\t Validation loss: 78227.7402\n",
            "[400/1000] Training loss: 485.5032\t Validation loss: 75157.3125\n",
            "[450/1000] Training loss: 429.3197\t Validation loss: 72302.5723\n",
            "[500/1000] Training loss: 465.5603\t Validation loss: 69923.6094\n",
            "[550/1000] Training loss: 309.8285\t Validation loss: 67382.6982\n",
            "[600/1000] Training loss: 263.4354\t Validation loss: 64964.2314\n",
            "[650/1000] Training loss: 238.5713\t Validation loss: 62684.9756\n",
            "[700/1000] Training loss: 193.3803\t Validation loss: 60537.6436\n",
            "[750/1000] Training loss: 203.5613\t Validation loss: 58529.1641\n",
            "[800/1000] Training loss: 202.6991\t Validation loss: 56619.5205\n",
            "[850/1000] Training loss: 151.5888\t Validation loss: 54814.6973\n",
            "[900/1000] Training loss: 108.8337\t Validation loss: 53166.8262\n",
            "[950/1000] Training loss: 180.5257\t Validation loss: 51584.2676\n",
            "[1000/1000] Training loss: 92.4384\t Validation loss: 50365.2764\n"
          ]
        },
        {
          "data": {
            "image/png": "[encoded data removed]",
            "text/plain": [
              "<Figure size 432x288 with 1 Axes>"
            ]
          },
          "metadata": {
            "needs_background": "light"
          },
          "output_type": "display_data"
        }
      ],
      "source": [
        "import torch.optim as optim\n",
        "\n",
        "input_dim = len(x_train.columns)\n",
        "output_dim = 1\n",
        "hidden_dim = 64\n",
        "layer_dim = 3\n",
        "# batch_size = 4032\n",
        "dropout = 0.2\n",
        "n_epochs = 1000\n",
        "learning_rate = 1e-3\n",
        "weight_decay = 1e-6\n",
        "\n",
        "model_params = {'input_dim': input_dim,\n",
        "                'hidden_dim' : hidden_dim,\n",
        "                'layer_dim' : layer_dim,\n",
        "                'output_dim' : output_dim,\n",
        "                'dropout_prob' : dropout}\n",
        "\n",
        "model = get_model('gru', model_params)\n",
        "\n",
        "device = torch.device(\"cuda\" if torch.cuda.is_available() else \"cpu\")\n",
        "\n",
        "model = model.to(device)\n",
        "\n",
        "loss_fn = nn.MSELoss(reduction=\"mean\")\n",
        "optimizer = optim.Adam(model.parameters(), lr=learning_rate, weight_decay=weight_decay)\n",
        "\n",
        "opt = Optimization(model=model, loss_fn=loss_fn, optimizer=optimizer)\n",
        "opt.train(train_loader, val_loader, batch_size=batch_size, n_epochs=n_epochs, n_features=input_dim)\n",
        "opt.plot_losses()\n",
        "\n",
        "predictions, values = opt.evaluate(test_loader_one, batch_size=1, n_features=input_dim)"
      ]
    }
  ],
  "metadata": {
    "accelerator": "GPU",
    "colab": {
      "collapsed_sections": [
        "itdD8-PC6VJi",
        "55pMDF187LO7",
        "cOsdynwu7ilM",
        "rXvp3tPRAgs6",
        "aO3cKK1qAwE2",
        "a6w9b9yVIlnn",
        "sz0jOPaziWZD",
        "TjJYvLErJL-d"
      ],
      "name": "Stock Prediction (LSTM, GRU, RNN).ipynb",
      "provenance": []
    },
    "kernelspec": {
      "display_name": "Python 3",
      "name": "python3"
    },
    "language_info": {
      "name": "python"
    }
  },
  "nbformat": 4,
  "nbformat_minor": 0
}
