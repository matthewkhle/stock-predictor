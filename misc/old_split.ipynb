{
 "cells": [
  {
   "cell_type": "markdown",
   "metadata": {},
   "source": [
    "## [NOT USED] Split `Data` into Training, Test, Validation "
   ]
  },
  {
   "cell_type": "markdown",
   "metadata": {},
   "source": [
    "#### Split the columns into x and y"
   ]
  },
  {
   "cell_type": "code",
   "execution_count": null,
   "metadata": {},
   "outputs": [],
   "source": [
    "# data_x = data[['Open', 'High', 'Low', 'Volume']].copy()\n",
    "# data_y = data[['Close']].copy()\n",
    "# print(data_x)\n",
    "# print(data_y)"
   ]
  },
  {
   "cell_type": "markdown",
   "metadata": {},
   "source": [
    "#### Use `sklearn` to split the data"
   ]
  },
  {
   "cell_type": "code",
   "execution_count": null,
   "metadata": {},
   "outputs": [],
   "source": [
    "# from sklearn.model_selection import train_test_split\n",
    "# # 10% is for validation\n",
    "# x_train, x_test , y_train, y_test = train_test_split(data_x, data_y, test_size=0.1, shuffle=False)\n",
    "# # 10% is for testing\n",
    "# x_train, x_valid, y_train, y_valid = train_test_split(x_train, y_train, test_size=(0.1 / 0.9), shuffle=False) # 0.1 / 0.9 since only 0.9 is left\n",
    "# print(\"x_train:\\n\", x_train)\n",
    "# print(\"y_train:\\n\", y_train)\n",
    "# print(\"x_valid:\\n\", x_valid)\n",
    "# print(\"y_valid:\\n\", y_valid)\n",
    "# print(\"x_test:\\n\", x_test)\n",
    "# print(\"y_test:\\n\", y_test)\n"
   ]
  }
 ],
 "metadata": {
  "language_info": {
   "name": "python"
  },
  "orig_nbformat": 4
 },
 "nbformat": 4,
 "nbformat_minor": 2
}
