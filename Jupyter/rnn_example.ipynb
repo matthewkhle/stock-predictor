{
 "cells": [
  {
   "cell_type": "code",
   "execution_count": 1,
   "metadata": {},
   "outputs": [
    {
     "name": "stdout",
     "output_type": "stream",
     "text": [
      "Downloading data from https://storage.googleapis.com/tensorflow/tf-keras-datasets/mnist.npz\n",
      "11493376/11490434 [==============================] - 1s 0us/step\n",
      "11501568/11490434 [==============================] - 1s 0us/step\n"
     ]
    },
    {
     "name": "stderr",
     "output_type": "stream",
     "text": [
      "C:\\Users\\le2ma\\AppData\\Local\\Programs\\Python\\Python39\\lib\\site-packages\\keras\\optimizer_v2\\optimizer_v2.py:355: UserWarning: The `lr` argument is deprecated, use `learning_rate` instead.\n",
      "  warnings.warn(\n"
     ]
    },
    {
     "name": "stdout",
     "output_type": "stream",
     "text": [
      "Model: \"sequential\"\n",
      "_________________________________________________________________\n",
      "Layer (type)                 Output Shape              Param #   \n",
      "=================================================================\n",
      "lstm (LSTM)                  (None, 128)               80384     \n",
      "_________________________________________________________________\n",
      "dense (Dense)                (None, 10)                1290      \n",
      "=================================================================\n",
      "Total params: 81,674\n",
      "Trainable params: 81,674\n",
      "Non-trainable params: 0\n",
      "_________________________________________________________________\n",
      "None\n",
      "Epoch 1/5\n",
      "938/938 - 13s - loss: 0.6166 - accuracy: 0.8014\n",
      "Epoch 2/5\n",
      "938/938 - 13s - loss: 0.1398 - accuracy: 0.9575\n",
      "Epoch 3/5\n",
      "938/938 - 13s - loss: 0.0981 - accuracy: 0.9694\n",
      "Epoch 4/5\n",
      "938/938 - 13s - loss: 0.0754 - accuracy: 0.9767\n",
      "Epoch 5/5\n",
      "938/938 - 13s - loss: 0.0627 - accuracy: 0.9802\n",
      "157/157 - 1s - loss: 0.0604 - accuracy: 0.9802\n"
     ]
    },
    {
     "data": {
      "text/plain": [
       "[0.06036243960261345, 0.9801999926567078]"
      ]
     },
     "execution_count": 1,
     "metadata": {},
     "output_type": "execute_result"
    }
   ],
   "source": [
    "import os\n",
    "os.environ[\"TF_CPP_MIN_LOG_LEVEL\"] = \"2\"\n",
    "\n",
    "import tensorflow as tf\n",
    "from tensorflow import keras\n",
    "from tensorflow.keras import layers\n",
    "\n",
    "mnist = keras.datasets.mnist\n",
    "\n",
    "(x_train, y_train), (x_test, y_test) = mnist.load_data()\n",
    "x_train, x_test = x_train / 255.0, x_test / 255.0\n",
    "# 28, 28 -> treat image as sequence\n",
    "# input_size=28\n",
    "# seq_length=28\n",
    "\n",
    "\n",
    "# RNN Outputs and states\n",
    "# ----------------------\n",
    "# By default, the output of a RNN layer contains a single vector per sample.\n",
    "# This vector is the RNN cell output corresponding to the last timestep, \n",
    "# containing information about the entire input sequence. \n",
    "# The shape of this output is (N, units)\n",
    "# \n",
    "# A RNN layer can also return the entire sequence of outputs \n",
    "# for each sample (one vector per timestep per sample), \n",
    "# if you set return_sequences=True. The shape of this output \n",
    "# is (N, timesteps, units).\n",
    "\n",
    "\n",
    "# model\n",
    "model = keras.models.Sequential()\n",
    "model.add(keras.Input(shape=(28,28))) # seq_length, input_size\n",
    "#model.add(layers.SimpleRNN(128, return_sequences=True, activation='relu')) # N, 28, 128\n",
    "model.add(layers.LSTM(128, return_sequences=False, activation='relu')) # N, 128\n",
    "model.add(layers.Dense(10))\n",
    "print(model.summary())\n",
    "\n",
    "# loss and optimizer\n",
    "loss = keras.losses.SparseCategoricalCrossentropy(from_logits=True)\n",
    "optim = keras.optimizers.Adam(lr=0.001)\n",
    "metrics = [\"accuracy\"]\n",
    "\n",
    "model.compile(loss=loss, optimizer=optim, metrics=metrics)\n",
    "\n",
    "# training\n",
    "batch_size = 64\n",
    "epochs = 5\n",
    "\n",
    "model.fit(x_train, y_train, batch_size=batch_size, epochs=epochs, verbose=2)\n",
    "\n",
    "# evaulate\n",
    "model.evaluate(x_test, y_test, batch_size=batch_size, verbose=2)"
   ]
  }
 ],
 "metadata": {
  "interpreter": {
   "hash": "7bfc3d9062e4aa719b2794ce0b670a49d0e14c19d264706ec73cfc63b237b7d4"
  },
  "kernelspec": {
   "display_name": "Python 3.9.7 64-bit",
   "name": "python3"
  },
  "language_info": {
   "codemirror_mode": {
    "name": "ipython",
    "version": 3
   },
   "file_extension": ".py",
   "mimetype": "text/x-python",
   "name": "python",
   "nbconvert_exporter": "python",
   "pygments_lexer": "ipython3",
   "version": "3.9.7"
  },
  "orig_nbformat": 4
 },
 "nbformat": 4,
 "nbformat_minor": 2
}
